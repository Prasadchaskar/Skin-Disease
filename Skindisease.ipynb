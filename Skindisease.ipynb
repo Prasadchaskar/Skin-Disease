{
  "nbformat": 4,
  "nbformat_minor": 0,
  "metadata": {
    "colab": {
      "name": "Untitled4.ipynb",
      "provenance": [],
      "mount_file_id": "1OmDbRjMs0IgLQLWAsN41KeruoKQ6Hqbu",
      "authorship_tag": "ABX9TyNyJswZkY+HkeNcTq2hKjTN",
      "include_colab_link": true
    },
    "kernelspec": {
      "name": "python3",
      "display_name": "Python 3"
    },
    "language_info": {
      "name": "python"
    },
    "accelerator": "GPU"
  },
  "cells": [
    {
      "cell_type": "markdown",
      "metadata": {
        "id": "view-in-github",
        "colab_type": "text"
      },
      "source": [
        "<a href=\"https://colab.research.google.com/github/Prasadchaskar/Skin-Disease/blob/main/Skindisease.ipynb\" target=\"_parent\"><img src=\"https://colab.research.google.com/assets/colab-badge.svg\" alt=\"Open In Colab\"/></a>"
      ]
    },
    {
      "cell_type": "code",
      "execution_count": 2,
      "metadata": {
        "id": "eP0kP-fyujO1"
      },
      "outputs": [],
      "source": [
        "# import zipfile\n",
        "# !unzip /content/drive/MyDrive/archive.zip"
      ]
    },
    {
      "cell_type": "code",
      "source": [
        "import tensorflow as tf\n",
        "from tensorflow.keras import models, layers\n",
        "import matplotlib.pyplot as plt\n",
        "from pprint import pprint\n",
        "import cv2\n",
        "import numpy as np"
      ],
      "metadata": {
        "id": "S0JfaUKtwTiv"
      },
      "execution_count": 17,
      "outputs": []
    },
    {
      "cell_type": "code",
      "source": [
        "import pathlib\n",
        "from pathlib import Path\n",
        "my_path = Path(r'/content/Skin disease/Train ')"
      ],
      "metadata": {
        "id": "Hhm5lHcS4TIh"
      },
      "execution_count": 3,
      "outputs": []
    },
    {
      "cell_type": "code",
      "source": [
        "glioma_tumors = list(my_path.glob('Infectious erythema /*'))\n",
        "glioma_tumors[:5]"
      ],
      "metadata": {
        "colab": {
          "base_uri": "https://localhost:8080/"
        },
        "id": "xKW8m9gQwojt",
        "outputId": "b504ca16-b989-4510-831f-a5a26482f341"
      },
      "execution_count": 10,
      "outputs": [
        {
          "output_type": "execute_result",
          "data": {
            "text/plain": [
              "[PosixPath('/content/Skin disease/Train /Infectious erythema /70.JPG'),\n",
              " PosixPath('/content/Skin disease/Train /Infectious erythema /57.jpg'),\n",
              " PosixPath('/content/Skin disease/Train /Infectious erythema /43.jpg'),\n",
              " PosixPath('/content/Skin disease/Train /Infectious erythema /98.JPG'),\n",
              " PosixPath('/content/Skin disease/Train /Infectious erythema /47.JPG')]"
            ]
          },
          "metadata": {},
          "execution_count": 10
        }
      ]
    },
    {
      "cell_type": "code",
      "source": [
        "skin_images_dict = {\n",
        "    'Chickenpox': list(my_path.glob('Chickenpox /*')),\n",
        "    'Impetigo': list(my_path.glob('Impetigo /*')),\n",
        "    'Infectious erythema': list(my_path.glob('Infectious erythema /*')),\n",
        "    'Scabies': list(my_path.glob('Scabies /*')),\n",
        "    'Skin warts': list(my_path.glob('Skin warts /*'))\n",
        "}\n",
        "skin_labels_dict = {\n",
        "    'Chickenpox': 0,\n",
        "    'Impetigo': 1,\n",
        "    'Infectious erythema': 2,\n",
        "    'Scabies': 3,\n",
        "    'Skin warts':4\n",
        "}"
      ],
      "metadata": {
        "id": "VuARXgQsw0Al"
      },
      "execution_count": 13,
      "outputs": []
    },
    {
      "cell_type": "code",
      "source": [
        "X = []\n",
        "y = []\n",
        "for tumor_name,images in skin_images_dict.items():\n",
        "    for image in images:\n",
        "        img = cv2.imread(str(image))\n",
        "        resize = cv2.resize(img,(200,200))\n",
        "        X.append(resize)\n",
        "        y.append(skin_labels_dict[tumor_name])"
      ],
      "metadata": {
        "id": "9e_O_9aExIJr"
      },
      "execution_count": 14,
      "outputs": []
    },
    {
      "cell_type": "code",
      "source": [
        "X = np.array(X)\n",
        "y = np.array(y)"
      ],
      "metadata": {
        "id": "PrQEpyRpxUxa"
      },
      "execution_count": 18,
      "outputs": []
    },
    {
      "cell_type": "code",
      "source": [
        "X_scaled = X/255"
      ],
      "metadata": {
        "id": "eD0A1jKdyX8b"
      },
      "execution_count": 19,
      "outputs": []
    },
    {
      "cell_type": "code",
      "source": [
        "from tensorflow.keras import  models,layers\n",
        "model = models.Sequential([\n",
        "    layers.Conv2D(filters=32, kernel_size=(4, 4),\n",
        "                  activation='relu', input_shape=(200, 200, 3)),\n",
        "    layers.MaxPooling2D(pool_size=(2, 2)),\n",
        "    \n",
        "    layers.Conv2D(filters=64, kernel_size=(3, 3),\n",
        "                  activation='relu'),\n",
        "    layers.MaxPooling2D(pool_size=(2, 2)),\n",
        "    layers.Conv2D(filters=124, kernel_size=(3, 3),\n",
        "                  activation='relu'),\n",
        "    # layers.MaxPooling2D(pool_size=(2, 2)),\n",
        "    layers.Dropout(0.5),\n",
        "    layers.Flatten(),\n",
        "    layers.Dense(270,activation='relu'),\n",
        "    layers.Dense(5,activation='softmax')\n",
        "]\n",
        ")\n",
        "model.compile(\n",
        "    optimizer='adam',\n",
        "    loss='sparse_categorical_crossentropy',\n",
        "    metrics=['accuracy']\n",
        ")"
      ],
      "metadata": {
        "id": "LXXxZi6L4m6u"
      },
      "execution_count": 24,
      "outputs": []
    },
    {
      "cell_type": "code",
      "source": [
        "model.fit(X_scaled,y,epochs=20)"
      ],
      "metadata": {
        "colab": {
          "base_uri": "https://localhost:8080/"
        },
        "id": "oTyMUxi-4v9-",
        "outputId": "02068483-d1df-48c7-cfa5-5edba8828f72"
      },
      "execution_count": 26,
      "outputs": [
        {
          "output_type": "stream",
          "name": "stdout",
          "text": [
            "Epoch 1/20\n",
            "11/11 [==============================] - 1s 130ms/step - loss: 1.4159 - accuracy: 0.4057\n",
            "Epoch 2/20\n",
            "11/11 [==============================] - 1s 122ms/step - loss: 1.2436 - accuracy: 0.4686\n",
            "Epoch 3/20\n",
            "11/11 [==============================] - 1s 121ms/step - loss: 1.1840 - accuracy: 0.4914\n",
            "Epoch 4/20\n",
            "11/11 [==============================] - 1s 120ms/step - loss: 0.9372 - accuracy: 0.6200\n",
            "Epoch 5/20\n",
            "11/11 [==============================] - 1s 121ms/step - loss: 0.7951 - accuracy: 0.6943\n",
            "Epoch 6/20\n",
            "11/11 [==============================] - 1s 120ms/step - loss: 0.6351 - accuracy: 0.7657\n",
            "Epoch 7/20\n",
            "11/11 [==============================] - 1s 120ms/step - loss: 0.6398 - accuracy: 0.7943\n",
            "Epoch 8/20\n",
            "11/11 [==============================] - 1s 121ms/step - loss: 0.8564 - accuracy: 0.6886\n",
            "Epoch 9/20\n",
            "11/11 [==============================] - 1s 122ms/step - loss: 0.5727 - accuracy: 0.7714\n",
            "Epoch 10/20\n",
            "11/11 [==============================] - 1s 121ms/step - loss: 0.5105 - accuracy: 0.8429\n",
            "Epoch 11/20\n",
            "11/11 [==============================] - 1s 120ms/step - loss: 0.4715 - accuracy: 0.8571\n",
            "Epoch 12/20\n",
            "11/11 [==============================] - 1s 121ms/step - loss: 0.3578 - accuracy: 0.8971\n",
            "Epoch 13/20\n",
            "11/11 [==============================] - 1s 124ms/step - loss: 0.3042 - accuracy: 0.9000\n",
            "Epoch 14/20\n",
            "11/11 [==============================] - 1s 124ms/step - loss: 0.3253 - accuracy: 0.8800\n",
            "Epoch 15/20\n",
            "11/11 [==============================] - 1s 123ms/step - loss: 0.2238 - accuracy: 0.9229\n",
            "Epoch 16/20\n",
            "11/11 [==============================] - 1s 124ms/step - loss: 0.1552 - accuracy: 0.9514\n",
            "Epoch 17/20\n",
            "11/11 [==============================] - 1s 124ms/step - loss: 0.1644 - accuracy: 0.9543\n",
            "Epoch 18/20\n",
            "11/11 [==============================] - 1s 123ms/step - loss: 0.1604 - accuracy: 0.9543\n",
            "Epoch 19/20\n",
            "11/11 [==============================] - 1s 124ms/step - loss: 0.1434 - accuracy: 0.9571\n",
            "Epoch 20/20\n",
            "11/11 [==============================] - 1s 122ms/step - loss: 0.2491 - accuracy: 0.9314\n"
          ]
        },
        {
          "output_type": "execute_result",
          "data": {
            "text/plain": [
              "<keras.callbacks.History at 0x7f7ce02fb9d0>"
            ]
          },
          "metadata": {},
          "execution_count": 26
        }
      ]
    },
    {
      "cell_type": "code",
      "source": [
        "test_path = Path(r'/content/Skin disease/Test ')"
      ],
      "metadata": {
        "id": "jO0oL8cGigzU"
      },
      "execution_count": 27,
      "outputs": []
    },
    {
      "cell_type": "code",
      "source": [
        "test_images_dict = {\n",
        "    'Chickenpox': list(test_path.glob('Chickenpox/*')),\n",
        "    'Impetigo': list(test_path.glob('Impetigo/*')),\n",
        "    'Infectious erythema': list(test_path.glob('Infectious erythema/*')),\n",
        "    'Scabies': list(test_path.glob('Scabies/*')),\n",
        "    'Skin warts': list(test_path.glob('Skin warts/*'))\n",
        "}"
      ],
      "metadata": {
        "id": "vCkINdLIizaE"
      },
      "execution_count": 28,
      "outputs": []
    },
    {
      "cell_type": "code",
      "source": [
        "X_test = []\n",
        "y_test = []\n",
        "\n",
        "for tumor_name,images in skin_images_dict.items():\n",
        "    for image in images:\n",
        "        img = cv2.imread(str(image))\n",
        "        resize = cv2.resize(img,(200,200))\n",
        "        X_test.append(resize)\n",
        "        y_test.append(skin_labels_dict[tumor_name])"
      ],
      "metadata": {
        "id": "iint3VY9i55M"
      },
      "execution_count": 29,
      "outputs": []
    },
    {
      "cell_type": "code",
      "source": [
        "X_test = np.array(X_test)\n",
        "y_test = np.array(y_test)"
      ],
      "metadata": {
        "id": "oWcrGps3jB3k"
      },
      "execution_count": 30,
      "outputs": []
    },
    {
      "cell_type": "code",
      "source": [
        "X_test_scaled = X_test/255"
      ],
      "metadata": {
        "id": "DVLbpcpDjIjk"
      },
      "execution_count": 31,
      "outputs": []
    },
    {
      "cell_type": "code",
      "source": [
        "model.evaluate(X_test_scaled,y_test)"
      ],
      "metadata": {
        "colab": {
          "base_uri": "https://localhost:8080/"
        },
        "id": "hiUEtTeSjaM0",
        "outputId": "773cb776-f210-4f9e-dfe6-5fd94c016eac"
      },
      "execution_count": 34,
      "outputs": [
        {
          "output_type": "stream",
          "name": "stdout",
          "text": [
            "11/11 [==============================] - 0s 36ms/step - loss: 0.2496 - accuracy: 0.9486\n"
          ]
        },
        {
          "output_type": "execute_result",
          "data": {
            "text/plain": [
              "[0.24962306022644043, 0.9485714435577393]"
            ]
          },
          "metadata": {},
          "execution_count": 34
        }
      ]
    },
    {
      "cell_type": "code",
      "source": [
        "y_pred = list()\n",
        "for i in model.predict(X_test_scaled):\n",
        "  y_pred.append(np.argmax(i))\n",
        "y_pred = np.array(y_pred)"
      ],
      "metadata": {
        "id": "Wo9PyO2JjMEs"
      },
      "execution_count": 35,
      "outputs": []
    },
    {
      "cell_type": "markdown",
      "source": [
        "Class 0 : Chickenpox\n",
        "Class 1 : Impetigo\n",
        "Class 2 : Infectious erythema\n",
        "Class 3 : Scabies\n",
        "Class 4 : Skin warts"
      ],
      "metadata": {
        "id": "eURice0vjsO0"
      }
    },
    {
      "cell_type": "code",
      "source": [
        "from sklearn.metrics import  classification_report,confusion_matrix\n",
        "print(classification_report(y_test,y_pred))"
      ],
      "metadata": {
        "colab": {
          "base_uri": "https://localhost:8080/"
        },
        "id": "Tbu-IFybjRgE",
        "outputId": "af73a3e9-e257-4373-d81b-258bb17cca02"
      },
      "execution_count": 36,
      "outputs": [
        {
          "output_type": "stream",
          "name": "stdout",
          "text": [
            "              precision    recall  f1-score   support\n",
            "\n",
            "           0       0.91      0.99      0.95        70\n",
            "           1       1.00      0.97      0.99        70\n",
            "           2       0.97      0.91      0.94        70\n",
            "           3       0.90      0.99      0.94        70\n",
            "           4       0.98      0.89      0.93        70\n",
            "\n",
            "    accuracy                           0.95       350\n",
            "   macro avg       0.95      0.95      0.95       350\n",
            "weighted avg       0.95      0.95      0.95       350\n",
            "\n"
          ]
        }
      ]
    },
    {
      "cell_type": "code",
      "source": [
        "import seaborn as sns\n",
        "import pandas as pd\n",
        "class_names = [0,1,2,3,4]\n",
        "fig,ax = plt.subplots()\n",
        "tick_marks = np.arange(len(class_names))\n",
        "plt.xticks(tick_marks,class_names)\n",
        "plt.yticks(tick_marks,class_names)\n",
        "cnf_matrix = confusion_matrix(y_test,y_pred)\n",
        "sns.heatmap(pd.DataFrame(cnf_matrix), annot = True, cmap = 'YlGnBu',\n",
        "                fmt = 'g')\n",
        "ax.xaxis.set_label_position('top')\n",
        "plt.tight_layout()\n",
        "plt.ylabel('Actual label')\n",
        "plt.xlabel('Predicted label')\n",
        "plt.show()"
      ],
      "metadata": {
        "colab": {
          "base_uri": "https://localhost:8080/",
          "height": 309
        },
        "id": "t2LwvuPhjVj0",
        "outputId": "5174de1d-ff03-484e-d0cb-57a7a7a6c091"
      },
      "execution_count": 39,
      "outputs": [
        {
          "output_type": "display_data",
          "data": {
            "image/png": "[encoded data removed]",
            "text/plain": [
              "<Figure size 432x288 with 2 Axes>"
            ]
          },
          "metadata": {
            "needs_background": "light"
          }
        }
      ]
    },
    {
      "cell_type": "code",
      "source": [
        ""
      ],
      "metadata": {
        "id": "DFn1kkYHjkdM"
      },
      "execution_count": null,
      "outputs": []
    }
  ]
}